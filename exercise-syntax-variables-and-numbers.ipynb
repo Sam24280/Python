{
 "cells": [
  {
   "cell_type": "markdown",
   "id": "0c8a7d90",
   "metadata": {
    "papermill": {
     "duration": 0.01072,
     "end_time": "2024-10-06T18:03:13.916504",
     "exception": false,
     "start_time": "2024-10-06T18:03:13.905784",
     "status": "completed"
    },
    "tags": []
   },
   "source": [
    "**This notebook is an exercise in the [Python](https://www.kaggle.com/learn/python) course.  You can reference the tutorial at [this link](https://www.kaggle.com/colinmorris/hello-python).**\n",
    "\n",
    "---\n"
   ]
  },
  {
   "cell_type": "markdown",
   "id": "4f551af5",
   "metadata": {
    "papermill": {
     "duration": 0.008297,
     "end_time": "2024-10-06T18:03:13.933801",
     "exception": false,
     "start_time": "2024-10-06T18:03:13.925504",
     "status": "completed"
    },
    "tags": []
   },
   "source": [
    "Welcome to your first set of Python coding problems.  If this is your first time using Kaggle Notebooks, welcome! \n",
    "\n",
    "Notebooks are composed of blocks (called \"cells\") of text and code. Each of these is editable, though you'll mainly be editing the code cells to answer some questions.\n",
    "\n",
    "To get started, try running the code cell below (by pressing the ► button, or clicking on the cell and pressing ctrl+enter on your keyboard)."
   ]
  },
  {
   "cell_type": "code",
   "execution_count": 1,
   "id": "b9295991",
   "metadata": {
    "execution": {
     "iopub.execute_input": "2024-10-06T18:03:13.952803Z",
     "iopub.status.busy": "2024-10-06T18:03:13.952270Z",
     "iopub.status.idle": "2024-10-06T18:03:13.967752Z",
     "shell.execute_reply": "2024-10-06T18:03:13.965781Z"
    },
    "papermill": {
     "duration": 0.02833,
     "end_time": "2024-10-06T18:03:13.970413",
     "exception": false,
     "start_time": "2024-10-06T18:03:13.942083",
     "status": "completed"
    },
    "tags": []
   },
   "outputs": [
    {
     "name": "stdout",
     "output_type": "stream",
     "text": [
      "You've successfully run some Python code\n",
      "Congratulations!\n"
     ]
    }
   ],
   "source": [
    "print(\"You've successfully run some Python code\")\n",
    "print(\"Congratulations!\")"
   ]
  },
  {
   "cell_type": "markdown",
   "id": "ec1b5521",
   "metadata": {
    "papermill": {
     "duration": 0.008308,
     "end_time": "2024-10-06T18:03:13.987227",
     "exception": false,
     "start_time": "2024-10-06T18:03:13.978919",
     "status": "completed"
    },
    "tags": []
   },
   "source": [
    "Try adding another line of code in the cell above and re-running it. \n",
    "\n",
    "Now let's get a little fancier:  Add a new code cell by clicking on an existing code cell, hitting the escape key, and then hitting the `a` or `b` key.  The `a` key will add a cell above the current cell, and `b` adds a cell below.\n",
    "\n",
    "Great! Now you know how to use Notebooks.\n",
    "\n",
    "Each hands-on exercise starts by setting up our feedback and code checking mechanism. Run the code cell below to do that. Then you'll be ready to move on to question 0."
   ]
  },
  {
   "cell_type": "code",
   "execution_count": 2,
   "id": "2f96a025",
   "metadata": {
    "_kg_hide-input": true,
    "_kg_hide-output": true,
    "execution": {
     "iopub.execute_input": "2024-10-06T18:03:14.007793Z",
     "iopub.status.busy": "2024-10-06T18:03:14.006579Z",
     "iopub.status.idle": "2024-10-06T18:03:14.988029Z",
     "shell.execute_reply": "2024-10-06T18:03:14.986542Z"
    },
    "papermill": {
     "duration": 0.994807,
     "end_time": "2024-10-06T18:03:14.990819",
     "exception": false,
     "start_time": "2024-10-06T18:03:13.996012",
     "status": "completed"
    },
    "tags": []
   },
   "outputs": [
    {
     "name": "stdout",
     "output_type": "stream",
     "text": [
      "Setup complete! You're ready to start question 0.\n"
     ]
    }
   ],
   "source": [
    "from learntools.core import binder; binder.bind(globals())\n",
    "from learntools.python.ex1 import *\n",
    "print(\"Setup complete! You're ready to start question 0.\")"
   ]
  },
  {
   "cell_type": "markdown",
   "id": "88b5fea8",
   "metadata": {
    "papermill": {
     "duration": 0.008274,
     "end_time": "2024-10-06T18:03:15.008916",
     "exception": false,
     "start_time": "2024-10-06T18:03:15.000642",
     "status": "completed"
    },
    "tags": []
   },
   "source": [
    "# 0.\n",
    "\n",
    "*This is a silly question intended as an introduction to the format we use for hands-on exercises throughout all Kaggle courses.*\n",
    "\n",
    "**What is your favorite color? **\n",
    "\n",
    "To complete this question, create a variable called `color` in the cell below with an appropriate value. The function call `q0.check()` (which we've already provided in the cell below) will check your answer."
   ]
  },
  {
   "cell_type": "code",
   "execution_count": 3,
   "id": "f102ef29",
   "metadata": {
    "execution": {
     "iopub.execute_input": "2024-10-06T18:03:15.028369Z",
     "iopub.status.busy": "2024-10-06T18:03:15.027822Z",
     "iopub.status.idle": "2024-10-06T18:03:15.039605Z",
     "shell.execute_reply": "2024-10-06T18:03:15.038406Z"
    },
    "papermill": {
     "duration": 0.02456,
     "end_time": "2024-10-06T18:03:15.042327",
     "exception": false,
     "start_time": "2024-10-06T18:03:15.017767",
     "status": "completed"
    },
    "tags": []
   },
   "outputs": [
    {
     "data": {
      "application/javascript": [
       "parent.postMessage({\"jupyterEvent\": \"custom.exercise_interaction\", \"data\": {\"outcomeType\": 1, \"valueTowardsCompletion\": 0.25, \"interactionType\": 1, \"questionType\": 2, \"questionId\": \"0_ExerciseFormatTutorial\", \"learnToolsVersion\": \"0.3.4\", \"failureMessage\": \"\", \"exceptionClass\": \"\", \"trace\": \"\"}}, \"*\")"
      ],
      "text/plain": [
       "<IPython.core.display.Javascript object>"
      ]
     },
     "metadata": {},
     "output_type": "display_data"
    },
    {
     "data": {
      "text/markdown": [
       "<span style=\"color:#33cc33\">Correct:</span> What?! You got it right without needing a hint or anything? Drats. Well hey, you should still continue to the next step to get some practice asking for a hint and checking solutions. (Even though you obviously don't need any help here.)"
      ],
      "text/plain": [
       "Correct: What?! You got it right without needing a hint or anything? Drats. Well hey, you should still continue to the next step to get some practice asking for a hint and checking solutions. (Even though you obviously don't need any help here.)"
      ]
     },
     "metadata": {},
     "output_type": "display_data"
    }
   ],
   "source": [
    "# create a variable called color with an appropriate value on the line below\n",
    "# (Remember, strings in Python must be enclosed in 'single' or \"double\" quotes)\n",
    "\n",
    "color = \"blue\"\n",
    "q0.check()"
   ]
  },
  {
   "cell_type": "markdown",
   "id": "779c7e17",
   "metadata": {
    "papermill": {
     "duration": 0.009071,
     "end_time": "2024-10-06T18:03:15.060721",
     "exception": false,
     "start_time": "2024-10-06T18:03:15.051650",
     "status": "completed"
    },
    "tags": []
   },
   "source": [
    "Didn't get the right answer? How do you not even know your own favorite color?!\n",
    "\n",
    "Delete the `#` in the line below to make one of the lines run. You can choose between getting a hint or the full answer by choosing which line to remove the `#` from. \n",
    "\n",
    "Removing the `#` is called uncommenting, because it changes that line from a \"comment\" which Python doesn't run to code, which Python does run."
   ]
  },
  {
   "cell_type": "code",
   "execution_count": 4,
   "id": "5093adae",
   "metadata": {
    "execution": {
     "iopub.execute_input": "2024-10-06T18:03:15.081249Z",
     "iopub.status.busy": "2024-10-06T18:03:15.080454Z",
     "iopub.status.idle": "2024-10-06T18:03:15.085795Z",
     "shell.execute_reply": "2024-10-06T18:03:15.084522Z"
    },
    "papermill": {
     "duration": 0.01895,
     "end_time": "2024-10-06T18:03:15.088881",
     "exception": false,
     "start_time": "2024-10-06T18:03:15.069931",
     "status": "completed"
    },
    "tags": []
   },
   "outputs": [],
   "source": [
    "#q0.hint()\n",
    "#q0.solution()"
   ]
  },
  {
   "cell_type": "markdown",
   "id": "7cebe5fc",
   "metadata": {
    "papermill": {
     "duration": 0.009212,
     "end_time": "2024-10-06T18:03:15.107388",
     "exception": false,
     "start_time": "2024-10-06T18:03:15.098176",
     "status": "completed"
    },
    "tags": []
   },
   "source": [
    "The upcoming questions work the same way. The only thing that will change are the question numbers. For the next question, you'll call `q1.check()`, `q1.hint()`, `q1.solution()`, for question 2, you'll call `q2.check()`, and so on."
   ]
  },
  {
   "cell_type": "markdown",
   "id": "9f98c5f6",
   "metadata": {
    "papermill": {
     "duration": 0.008735,
     "end_time": "2024-10-06T18:03:15.125049",
     "exception": false,
     "start_time": "2024-10-06T18:03:15.116314",
     "status": "completed"
    },
    "tags": []
   },
   "source": [
    "<hr/>\n",
    "\n",
    "# 1.\n",
    "\n",
    "Complete the code below. In case it's helpful, here is the table of available arithmetic operations:\n",
    "\n",
    "\n",
    "\n",
    "| Operator     | Name           | Description                                            |\n",
    "|--------------|----------------|--------------------------------------------------------|\n",
    "| ``a + b``    | Addition       | Sum of ``a`` and ``b``                                 |\n",
    "| ``a - b``    | Subtraction    | Difference of ``a`` and ``b``                          |\n",
    "| ``a * b``    | Multiplication | Product of ``a`` and ``b``                             |\n",
    "| ``a / b``    | True division  | Quotient of ``a`` and ``b``                            |\n",
    "| ``a // b``   | Floor division | Quotient of ``a`` and ``b``, removing fractional parts |\n",
    "| ``a % b``    | Modulus        | Integer remainder after division of ``a`` by ``b``     |\n",
    "| ``a ** b``   | Exponentiation | ``a`` raised to the power of ``b``                     |\n",
    "| ``-a``       | Negation       | The negative of ``a``                                  |\n",
    "\n",
    "<span style=\"display:none\"></span>\n"
   ]
  },
  {
   "cell_type": "code",
   "execution_count": 5,
   "id": "a18e9d21",
   "metadata": {
    "execution": {
     "iopub.execute_input": "2024-10-06T18:03:15.145428Z",
     "iopub.status.busy": "2024-10-06T18:03:15.144934Z",
     "iopub.status.idle": "2024-10-06T18:03:15.156037Z",
     "shell.execute_reply": "2024-10-06T18:03:15.154728Z"
    },
    "papermill": {
     "duration": 0.024555,
     "end_time": "2024-10-06T18:03:15.158814",
     "exception": false,
     "start_time": "2024-10-06T18:03:15.134259",
     "status": "completed"
    },
    "tags": []
   },
   "outputs": [
    {
     "data": {
      "application/javascript": [
       "parent.postMessage({\"jupyterEvent\": \"custom.exercise_interaction\", \"data\": {\"outcomeType\": 1, \"valueTowardsCompletion\": 0.25, \"interactionType\": 1, \"questionType\": 1, \"questionId\": \"1_CircleArea\", \"learnToolsVersion\": \"0.3.4\", \"failureMessage\": \"\", \"exceptionClass\": \"\", \"trace\": \"\"}}, \"*\")"
      ],
      "text/plain": [
       "<IPython.core.display.Javascript object>"
      ]
     },
     "metadata": {},
     "output_type": "display_data"
    },
    {
     "data": {
      "text/markdown": [
       "<span style=\"color:#33cc33\">Correct</span>"
      ],
      "text/plain": [
       "Correct"
      ]
     },
     "metadata": {},
     "output_type": "display_data"
    }
   ],
   "source": [
    "pi = 3.14159 # approximate\n",
    "diameter = 3\n",
    "\n",
    "# Create a variable called 'radius' equal to half the diameter\n",
    " \n",
    "radius = diameter/2\n",
    "# Create a variable called 'area', using the formula for the area of a circle: pi times the radius squared\n",
    "\n",
    "area = pi * radius*radius\n",
    "# Check your answer\n",
    "q1.check()"
   ]
  },
  {
   "cell_type": "code",
   "execution_count": 6,
   "id": "fef7d784",
   "metadata": {
    "execution": {
     "iopub.execute_input": "2024-10-06T18:03:15.179969Z",
     "iopub.status.busy": "2024-10-06T18:03:15.178865Z",
     "iopub.status.idle": "2024-10-06T18:03:15.183811Z",
     "shell.execute_reply": "2024-10-06T18:03:15.182789Z"
    },
    "papermill": {
     "duration": 0.018249,
     "end_time": "2024-10-06T18:03:15.186367",
     "exception": false,
     "start_time": "2024-10-06T18:03:15.168118",
     "status": "completed"
    },
    "tags": []
   },
   "outputs": [],
   "source": [
    "# Uncomment and run the lines below if you need help.\n",
    "#q1.hint()\n",
    "#q1.solution()"
   ]
  },
  {
   "cell_type": "markdown",
   "id": "1b291421",
   "metadata": {
    "papermill": {
     "duration": 0.010751,
     "end_time": "2024-10-06T18:03:15.206688",
     "exception": false,
     "start_time": "2024-10-06T18:03:15.195937",
     "status": "completed"
    },
    "tags": []
   },
   "source": [
    "<hr/>\n",
    "\n",
    "# 2.\n",
    "\n",
    "Add code to the following cell to swap variables `a` and `b` (so that `a` refers to the object previously referred to by `b` and vice versa)."
   ]
  },
  {
   "cell_type": "code",
   "execution_count": 7,
   "id": "e845cb20",
   "metadata": {
    "execution": {
     "iopub.execute_input": "2024-10-06T18:03:15.227902Z",
     "iopub.status.busy": "2024-10-06T18:03:15.226975Z",
     "iopub.status.idle": "2024-10-06T18:03:15.238098Z",
     "shell.execute_reply": "2024-10-06T18:03:15.237020Z"
    },
    "papermill": {
     "duration": 0.024236,
     "end_time": "2024-10-06T18:03:15.240334",
     "exception": false,
     "start_time": "2024-10-06T18:03:15.216098",
     "status": "completed"
    },
    "tags": []
   },
   "outputs": [
    {
     "data": {
      "application/javascript": [
       "parent.postMessage({\"jupyterEvent\": \"custom.exercise_interaction\", \"data\": {\"outcomeType\": 1, \"valueTowardsCompletion\": 0.25, \"interactionType\": 1, \"questionType\": 2, \"questionId\": \"2_VariableSwap\", \"learnToolsVersion\": \"0.3.4\", \"failureMessage\": \"\", \"exceptionClass\": \"\", \"trace\": \"\"}}, \"*\")"
      ],
      "text/plain": [
       "<IPython.core.display.Javascript object>"
      ]
     },
     "metadata": {},
     "output_type": "display_data"
    },
    {
     "data": {
      "text/markdown": [
       "<span style=\"color:#33cc33\">Correct:</span> \n",
       "\n",
       "The most straightforward solution is to use a third variable to temporarily store one of the old values. e.g.:\n",
       "\n",
       "    tmp = a\n",
       "    a = b\n",
       "    b = tmp\n",
       "\n",
       "If you've read lots of Python code, you might have seen the following trick to swap two variables in one line:\n",
       "\n",
       "    a, b = b, a\n",
       "\n",
       "We'll demystify this bit of Python magic later when we talk about *tuples*."
      ],
      "text/plain": [
       "Correct: \n",
       "\n",
       "The most straightforward solution is to use a third variable to temporarily store one of the old values. e.g.:\n",
       "\n",
       "    tmp = a\n",
       "    a = b\n",
       "    b = tmp\n",
       "\n",
       "If you've read lots of Python code, you might have seen the following trick to swap two variables in one line:\n",
       "\n",
       "    a, b = b, a\n",
       "\n",
       "We'll demystify this bit of Python magic later when we talk about *tuples*."
      ]
     },
     "metadata": {},
     "output_type": "display_data"
    }
   ],
   "source": [
    "########### Setup code - don't touch this part ######################\n",
    "# If you're curious, these are examples of lists. We'll talk about \n",
    "# them in depth a few lessons from now. For now, just know that they're\n",
    "# yet another type of Python object, like int or float.\n",
    "a = [1, 2, 3]\n",
    "b = [3, 2, 1]\n",
    "q2.store_original_ids()\n",
    "######################################################################\n",
    "\n",
    "# Your code goes here. Swap the values to which a and b refer.\n",
    "# If you get stuck, you can always uncomment one or both of the lines in\n",
    "# the next cell for a hint, or to peek at the solution.\n",
    "\n",
    "a, b = b, a\n",
    "######################################################################\n",
    "\n",
    "# Check your answer\n",
    "q2.check()"
   ]
  },
  {
   "cell_type": "code",
   "execution_count": 8,
   "id": "a46d3aa2",
   "metadata": {
    "execution": {
     "iopub.execute_input": "2024-10-06T18:03:15.261537Z",
     "iopub.status.busy": "2024-10-06T18:03:15.261108Z",
     "iopub.status.idle": "2024-10-06T18:03:15.266369Z",
     "shell.execute_reply": "2024-10-06T18:03:15.265132Z"
    },
    "papermill": {
     "duration": 0.018694,
     "end_time": "2024-10-06T18:03:15.268744",
     "exception": false,
     "start_time": "2024-10-06T18:03:15.250050",
     "status": "completed"
    },
    "tags": []
   },
   "outputs": [],
   "source": [
    "#q2.hint()"
   ]
  },
  {
   "cell_type": "code",
   "execution_count": 9,
   "id": "50d00042",
   "metadata": {
    "execution": {
     "iopub.execute_input": "2024-10-06T18:03:15.290321Z",
     "iopub.status.busy": "2024-10-06T18:03:15.289831Z",
     "iopub.status.idle": "2024-10-06T18:03:15.295162Z",
     "shell.execute_reply": "2024-10-06T18:03:15.293931Z"
    },
    "papermill": {
     "duration": 0.019211,
     "end_time": "2024-10-06T18:03:15.297644",
     "exception": false,
     "start_time": "2024-10-06T18:03:15.278433",
     "status": "completed"
    },
    "tags": []
   },
   "outputs": [],
   "source": [
    "#q2.solution()"
   ]
  },
  {
   "cell_type": "markdown",
   "id": "d6cda69b",
   "metadata": {
    "papermill": {
     "duration": 0.009778,
     "end_time": "2024-10-06T18:03:15.317786",
     "exception": false,
     "start_time": "2024-10-06T18:03:15.308008",
     "status": "completed"
    },
    "tags": []
   },
   "source": [
    "<hr/>\n",
    "\n",
    "# 3a.\n",
    "\n",
    "Add parentheses to the following expression so that it evaluates to 1."
   ]
  },
  {
   "cell_type": "code",
   "execution_count": 10,
   "id": "6510802a",
   "metadata": {
    "execution": {
     "iopub.execute_input": "2024-10-06T18:03:15.340008Z",
     "iopub.status.busy": "2024-10-06T18:03:15.339563Z",
     "iopub.status.idle": "2024-10-06T18:03:15.347803Z",
     "shell.execute_reply": "2024-10-06T18:03:15.346317Z"
    },
    "papermill": {
     "duration": 0.022576,
     "end_time": "2024-10-06T18:03:15.350437",
     "exception": false,
     "start_time": "2024-10-06T18:03:15.327861",
     "status": "completed"
    },
    "tags": []
   },
   "outputs": [
    {
     "data": {
      "text/plain": [
       "4"
      ]
     },
     "execution_count": 10,
     "metadata": {},
     "output_type": "execute_result"
    }
   ],
   "source": [
    "5 - 3 // 2"
   ]
  },
  {
   "cell_type": "code",
   "execution_count": 11,
   "id": "5fa1da6c",
   "metadata": {
    "execution": {
     "iopub.execute_input": "2024-10-06T18:03:15.373116Z",
     "iopub.status.busy": "2024-10-06T18:03:15.372673Z",
     "iopub.status.idle": "2024-10-06T18:03:15.378194Z",
     "shell.execute_reply": "2024-10-06T18:03:15.377008Z"
    },
    "papermill": {
     "duration": 0.019979,
     "end_time": "2024-10-06T18:03:15.380782",
     "exception": false,
     "start_time": "2024-10-06T18:03:15.360803",
     "status": "completed"
    },
    "tags": []
   },
   "outputs": [],
   "source": [
    "#q3.a.hint()"
   ]
  },
  {
   "cell_type": "code",
   "execution_count": 12,
   "id": "3d81bbd0",
   "metadata": {
    "execution": {
     "iopub.execute_input": "2024-10-06T18:03:15.404488Z",
     "iopub.status.busy": "2024-10-06T18:03:15.403986Z",
     "iopub.status.idle": "2024-10-06T18:03:15.414496Z",
     "shell.execute_reply": "2024-10-06T18:03:15.413136Z"
    },
    "papermill": {
     "duration": 0.026351,
     "end_time": "2024-10-06T18:03:15.417481",
     "exception": false,
     "start_time": "2024-10-06T18:03:15.391130",
     "status": "completed"
    },
    "tags": []
   },
   "outputs": [
    {
     "data": {
      "application/javascript": [
       "parent.postMessage({\"jupyterEvent\": \"custom.exercise_interaction\", \"data\": {\"interactionType\": 3, \"questionType\": 4, \"questionId\": \"3.1_ArithmeticParensEasy\", \"learnToolsVersion\": \"0.3.4\", \"valueTowardsCompletion\": 0.0, \"failureMessage\": \"\", \"exceptionClass\": \"\", \"trace\": \"\", \"outcomeType\": 4}}, \"*\")"
      ],
      "text/plain": [
       "<IPython.core.display.Javascript object>"
      ]
     },
     "metadata": {},
     "output_type": "display_data"
    },
    {
     "data": {
      "text/markdown": [
       "<span style=\"color:#33cc99\">Solution:</span> \n",
       "```python\n",
       "(5 - 3) // 2\n",
       "```"
      ],
      "text/plain": [
       "Solution: \n",
       "```python\n",
       "(5 - 3) // 2\n",
       "```"
      ]
     },
     "metadata": {},
     "output_type": "display_data"
    }
   ],
   "source": [
    "# Check your answer (Run this code cell to receive credit!)\n",
    "q3.a.solution()"
   ]
  },
  {
   "cell_type": "markdown",
   "id": "b524c1a2",
   "metadata": {
    "papermill": {
     "duration": 0.0106,
     "end_time": "2024-10-06T18:03:15.439149",
     "exception": false,
     "start_time": "2024-10-06T18:03:15.428549",
     "status": "completed"
    },
    "tags": []
   },
   "source": [
    "# 3b.  <span title=\"A bit spicy\" style=\"color: darkgreen \">🌶️</span>\n",
    "\n",
    "<small>Questions, like this one, marked a spicy pepper are a bit harder.</small>\n",
    "\n",
    "Add parentheses to the following expression so that it evaluates to 0."
   ]
  },
  {
   "cell_type": "code",
   "execution_count": 13,
   "id": "16ead752",
   "metadata": {
    "execution": {
     "iopub.execute_input": "2024-10-06T18:03:15.463823Z",
     "iopub.status.busy": "2024-10-06T18:03:15.463385Z",
     "iopub.status.idle": "2024-10-06T18:03:15.471319Z",
     "shell.execute_reply": "2024-10-06T18:03:15.470070Z"
    },
    "papermill": {
     "duration": 0.023356,
     "end_time": "2024-10-06T18:03:15.474139",
     "exception": false,
     "start_time": "2024-10-06T18:03:15.450783",
     "status": "completed"
    },
    "tags": []
   },
   "outputs": [
    {
     "data": {
      "text/plain": [
       "2"
      ]
     },
     "execution_count": 13,
     "metadata": {},
     "output_type": "execute_result"
    }
   ],
   "source": [
    "8 - 3 * 2 - 1 + 1"
   ]
  },
  {
   "cell_type": "code",
   "execution_count": 14,
   "id": "c165da27",
   "metadata": {
    "execution": {
     "iopub.execute_input": "2024-10-06T18:03:15.499001Z",
     "iopub.status.busy": "2024-10-06T18:03:15.497759Z",
     "iopub.status.idle": "2024-10-06T18:03:15.503440Z",
     "shell.execute_reply": "2024-10-06T18:03:15.502321Z"
    },
    "papermill": {
     "duration": 0.021327,
     "end_time": "2024-10-06T18:03:15.506352",
     "exception": false,
     "start_time": "2024-10-06T18:03:15.485025",
     "status": "completed"
    },
    "tags": []
   },
   "outputs": [],
   "source": [
    "#q3.b.hint()"
   ]
  },
  {
   "cell_type": "code",
   "execution_count": 15,
   "id": "5aee34cf",
   "metadata": {
    "execution": {
     "iopub.execute_input": "2024-10-06T18:03:15.531058Z",
     "iopub.status.busy": "2024-10-06T18:03:15.530631Z",
     "iopub.status.idle": "2024-10-06T18:03:15.540811Z",
     "shell.execute_reply": "2024-10-06T18:03:15.539671Z"
    },
    "papermill": {
     "duration": 0.025375,
     "end_time": "2024-10-06T18:03:15.543377",
     "exception": false,
     "start_time": "2024-10-06T18:03:15.518002",
     "status": "completed"
    },
    "tags": []
   },
   "outputs": [
    {
     "data": {
      "application/javascript": [
       "parent.postMessage({\"jupyterEvent\": \"custom.exercise_interaction\", \"data\": {\"interactionType\": 3, \"questionType\": 4, \"questionId\": \"3.2_ArithmeticParensHard\", \"learnToolsVersion\": \"0.3.4\", \"valueTowardsCompletion\": 0.0, \"failureMessage\": \"\", \"exceptionClass\": \"\", \"trace\": \"\", \"outcomeType\": 4}}, \"*\")"
      ],
      "text/plain": [
       "<IPython.core.display.Javascript object>"
      ]
     },
     "metadata": {},
     "output_type": "display_data"
    },
    {
     "data": {
      "text/markdown": [
       "<span style=\"color:#33cc99\">Solution:</span> `(8 - 3) * (2 - (1 + 1))` is one solution. There may be others."
      ],
      "text/plain": [
       "Solution: `(8 - 3) * (2 - (1 + 1))` is one solution. There may be others."
      ]
     },
     "metadata": {},
     "output_type": "display_data"
    }
   ],
   "source": [
    "# Check your answer (Run this code cell to receive credit!)\n",
    "q3.b.solution()"
   ]
  },
  {
   "cell_type": "markdown",
   "id": "ef132b27",
   "metadata": {
    "papermill": {
     "duration": 0.010691,
     "end_time": "2024-10-06T18:03:15.565494",
     "exception": false,
     "start_time": "2024-10-06T18:03:15.554803",
     "status": "completed"
    },
    "tags": []
   },
   "source": [
    "<hr/>\n",
    "\n",
    "# 4. \n",
    "Alice, Bob and Carol have agreed to pool their Halloween candy and split it evenly among themselves.\n",
    "For the sake of their friendship, any candies left over will be smashed. For example, if they collectively\n",
    "bring home 91 candies, they'll take 30 each and smash 1.\n",
    "\n",
    "Write an arithmetic expression below to calculate how many candies they must smash for a given haul."
   ]
  },
  {
   "cell_type": "code",
   "execution_count": 16,
   "id": "88952a8b",
   "metadata": {
    "execution": {
     "iopub.execute_input": "2024-10-06T18:03:15.589589Z",
     "iopub.status.busy": "2024-10-06T18:03:15.589163Z",
     "iopub.status.idle": "2024-10-06T18:03:15.600461Z",
     "shell.execute_reply": "2024-10-06T18:03:15.599294Z"
    },
    "papermill": {
     "duration": 0.026326,
     "end_time": "2024-10-06T18:03:15.602970",
     "exception": false,
     "start_time": "2024-10-06T18:03:15.576644",
     "status": "completed"
    },
    "tags": []
   },
   "outputs": [
    {
     "data": {
      "application/javascript": [
       "parent.postMessage({\"jupyterEvent\": \"custom.exercise_interaction\", \"data\": {\"outcomeType\": 1, \"valueTowardsCompletion\": 0.25, \"interactionType\": 1, \"questionType\": 1, \"questionId\": \"4_CandySplitting\", \"learnToolsVersion\": \"0.3.4\", \"failureMessage\": \"\", \"exceptionClass\": \"\", \"trace\": \"\"}}, \"*\")"
      ],
      "text/plain": [
       "<IPython.core.display.Javascript object>"
      ]
     },
     "metadata": {},
     "output_type": "display_data"
    },
    {
     "data": {
      "text/markdown": [
       "<span style=\"color:#33cc33\">Correct</span>"
      ],
      "text/plain": [
       "Correct"
      ]
     },
     "metadata": {},
     "output_type": "display_data"
    }
   ],
   "source": [
    "# Variables representing the number of candies collected by alice, bob, and carol\n",
    "alice_candies = 121\n",
    "bob_candies = 77\n",
    "carol_candies = 109\n",
    "\n",
    "# Your code goes here! Replace the right-hand side of this assignment with an expression\n",
    "# involving alice_candies, bob_candies, and carol_candies\n",
    "to_smash = (alice_candies + bob_candies + carol_candies)%3\n",
    "\n",
    "# Check your answer\n",
    "q4.check()"
   ]
  },
  {
   "cell_type": "code",
   "execution_count": 17,
   "id": "009db940",
   "metadata": {
    "execution": {
     "iopub.execute_input": "2024-10-06T18:03:15.627388Z",
     "iopub.status.busy": "2024-10-06T18:03:15.626959Z",
     "iopub.status.idle": "2024-10-06T18:03:15.632033Z",
     "shell.execute_reply": "2024-10-06T18:03:15.630863Z"
    },
    "papermill": {
     "duration": 0.020177,
     "end_time": "2024-10-06T18:03:15.634455",
     "exception": false,
     "start_time": "2024-10-06T18:03:15.614278",
     "status": "completed"
    },
    "tags": []
   },
   "outputs": [],
   "source": [
    "#q4.hint()\n",
    "#q4.solution()"
   ]
  },
  {
   "cell_type": "markdown",
   "id": "e8cf4100",
   "metadata": {
    "papermill": {
     "duration": 0.011146,
     "end_time": "2024-10-06T18:03:15.657137",
     "exception": false,
     "start_time": "2024-10-06T18:03:15.645991",
     "status": "completed"
    },
    "tags": []
   },
   "source": [
    "# Keep Going\n",
    "\n",
    "Next up, you'll **[learn to write new functions and understand functions others write](https://www.kaggle.com/colinmorris/functions-and-getting-help)**. This will make you at least 10 times more productive as a Python programmer. "
   ]
  },
  {
   "cell_type": "markdown",
   "id": "f502267a",
   "metadata": {
    "papermill": {
     "duration": 0.011164,
     "end_time": "2024-10-06T18:03:15.679830",
     "exception": false,
     "start_time": "2024-10-06T18:03:15.668666",
     "status": "completed"
    },
    "tags": []
   },
   "source": [
    "---\n",
    "\n",
    "\n",
    "\n",
    "\n",
    "*Have questions or comments? Visit the [course discussion forum](https://www.kaggle.com/learn/python/discussion) to chat with other learners.*"
   ]
  }
 ],
 "metadata": {
  "kaggle": {
   "accelerator": "none",
   "dataSources": [],
   "isGpuEnabled": false,
   "isInternetEnabled": false,
   "language": "python",
   "sourceType": "notebook"
  },
  "kernelspec": {
   "display_name": "Python 3",
   "language": "python",
   "name": "python3"
  },
  "language_info": {
   "codemirror_mode": {
    "name": "ipython",
    "version": 3
   },
   "file_extension": ".py",
   "mimetype": "text/x-python",
   "name": "python",
   "nbconvert_exporter": "python",
   "pygments_lexer": "ipython3",
   "version": "3.10.14"
  },
  "learntools_metadata": {
   "lesson_index": 0,
   "type": "exercise"
  },
  "papermill": {
   "default_parameters": {},
   "duration": 5.582317,
   "end_time": "2024-10-06T18:03:16.413891",
   "environment_variables": {},
   "exception": null,
   "input_path": "__notebook__.ipynb",
   "output_path": "__notebook__.ipynb",
   "parameters": {},
   "start_time": "2024-10-06T18:03:10.831574",
   "version": "2.6.0"
  }
 },
 "nbformat": 4,
 "nbformat_minor": 5
}
